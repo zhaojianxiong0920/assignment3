{
  "nbformat": 4,
  "nbformat_minor": 0,
  "metadata": {
    "coursera": {
      "course_slug": "neural-networks-deep-learning",
      "graded_item_id": "XHpfv",
      "launcher_item_id": "Zh0CU"
    },
    "kernelspec": {
      "display_name": "Python 3",
      "language": "python",
      "name": "python3"
    },
    "language_info": {
      "codemirror_mode": {
        "name": "ipython",
        "version": 3
      },
      "file_extension": ".py",
      "mimetype": "text/x-python",
      "name": "python",
      "nbconvert_exporter": "python",
      "pygments_lexer": "ipython3",
      "version": "3.7.6"
    },
    "colab": {
      "name": "“Python_ML_functions_Assignment3.ipynb”的副本",
      "provenance": []
    },
    "widgets": {
      "application/vnd.jupyter.widget-state+json": {
        "d00b2383067047cbbc4ff69ca1bfdf4b": {
          "model_module": "@jupyter-widgets/controls",
          "model_name": "VBoxModel",
          "state": {
            "_view_name": "VBoxView",
            "_dom_classes": [
              "widget-interact"
            ],
            "_model_name": "VBoxModel",
            "_view_module": "@jupyter-widgets/controls",
            "_model_module_version": "1.5.0",
            "_view_count": null,
            "_view_module_version": "1.5.0",
            "box_style": "",
            "layout": "IPY_MODEL_986358ca4d0940d6a70cb90dd1f50baa",
            "_model_module": "@jupyter-widgets/controls",
            "children": [
              "IPY_MODEL_c2071240a69a46378f15ab52b27f80ff",
              "IPY_MODEL_7f62229380934bf9b9067033e08a1f3b",
              "IPY_MODEL_327a282c0ee242e49092e640ea61ca8b"
            ]
          }
        },
        "986358ca4d0940d6a70cb90dd1f50baa": {
          "model_module": "@jupyter-widgets/base",
          "model_name": "LayoutModel",
          "state": {
            "_view_name": "LayoutView",
            "grid_template_rows": null,
            "right": null,
            "justify_content": null,
            "_view_module": "@jupyter-widgets/base",
            "overflow": null,
            "_model_module_version": "1.2.0",
            "_view_count": null,
            "flex_flow": null,
            "width": null,
            "min_width": null,
            "border": null,
            "align_items": null,
            "bottom": null,
            "_model_module": "@jupyter-widgets/base",
            "top": null,
            "grid_column": null,
            "overflow_y": null,
            "overflow_x": null,
            "grid_auto_flow": null,
            "grid_area": null,
            "grid_template_columns": null,
            "flex": null,
            "_model_name": "LayoutModel",
            "justify_items": null,
            "grid_row": null,
            "max_height": null,
            "align_content": null,
            "visibility": null,
            "align_self": null,
            "height": null,
            "min_height": null,
            "padding": null,
            "grid_auto_rows": null,
            "grid_gap": null,
            "max_width": null,
            "order": null,
            "_view_module_version": "1.2.0",
            "grid_template_areas": null,
            "object_position": null,
            "object_fit": null,
            "grid_auto_columns": null,
            "margin": null,
            "display": null,
            "left": null
          }
        },
        "c2071240a69a46378f15ab52b27f80ff": {
          "model_module": "@jupyter-widgets/controls",
          "model_name": "IntSliderModel",
          "state": {
            "_view_name": "IntSliderView",
            "style": "IPY_MODEL_7b6a34959d134c2896e2a1676bd2ec8f",
            "_dom_classes": [],
            "description": "angle1",
            "step": 10,
            "_model_name": "IntSliderModel",
            "orientation": "horizontal",
            "max": 180,
            "_view_module": "@jupyter-widgets/controls",
            "_model_module_version": "1.5.0",
            "value": 20,
            "_view_count": null,
            "disabled": false,
            "_view_module_version": "1.5.0",
            "min": -180,
            "continuous_update": true,
            "readout_format": "d",
            "description_tooltip": null,
            "readout": true,
            "_model_module": "@jupyter-widgets/controls",
            "layout": "IPY_MODEL_1f04a6a66134403b8e894abbd2821152"
          }
        },
        "7f62229380934bf9b9067033e08a1f3b": {
          "model_module": "@jupyter-widgets/controls",
          "model_name": "IntSliderModel",
          "state": {
            "_view_name": "IntSliderView",
            "style": "IPY_MODEL_6a08d79ac7dc402eaf04b24f47406442",
            "_dom_classes": [],
            "description": "angle2",
            "step": 10,
            "_model_name": "IntSliderModel",
            "orientation": "horizontal",
            "max": 180,
            "_view_module": "@jupyter-widgets/controls",
            "_model_module_version": "1.5.0",
            "value": 50,
            "_view_count": null,
            "disabled": false,
            "_view_module_version": "1.5.0",
            "min": -180,
            "continuous_update": true,
            "readout_format": "d",
            "description_tooltip": null,
            "readout": true,
            "_model_module": "@jupyter-widgets/controls",
            "layout": "IPY_MODEL_9121f75732f14626a852edf17ce52ca3"
          }
        },
        "327a282c0ee242e49092e640ea61ca8b": {
          "model_module": "@jupyter-widgets/output",
          "model_name": "OutputModel",
          "state": {
            "_view_name": "OutputView",
            "msg_id": "",
            "_dom_classes": [],
            "_model_name": "OutputModel",
            "outputs": [
              {
                "output_type": "display_data",
                "metadata": {
                  "tags": []
                },
                "text/plain": "<Figure size 576x288 with 0 Axes>"
              },
              {
                "output_type": "display_data",
                "metadata": {
                  "tags": []
                },
                "image/png": "iVBORw0KGgoAAAANSUhEUgAAAtQAAAKaCAYAAAAef87sAAAABHNCSVQICAgIfAhkiAAAAAlwSFlz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\n",
                "text/plain": "<Figure size 864x864 with 2 Axes>"
              }
            ],
            "_view_module": "@jupyter-widgets/output",
            "_model_module_version": "1.0.0",
            "_view_count": null,
            "_view_module_version": "1.0.0",
            "layout": "IPY_MODEL_c97cf9f96534434a96e70c27bb7b09b5",
            "_model_module": "@jupyter-widgets/output"
          }
        },
        "7b6a34959d134c2896e2a1676bd2ec8f": {
          "model_module": "@jupyter-widgets/controls",
          "model_name": "SliderStyleModel",
          "state": {
            "_view_name": "StyleView",
            "handle_color": null,
            "_model_name": "SliderStyleModel",
            "description_width": "",
            "_view_module": "@jupyter-widgets/base",
            "_model_module_version": "1.5.0",
            "_view_count": null,
            "_view_module_version": "1.2.0",
            "_model_module": "@jupyter-widgets/controls"
          }
        },
        "1f04a6a66134403b8e894abbd2821152": {
          "model_module": "@jupyter-widgets/base",
          "model_name": "LayoutModel",
          "state": {
            "_view_name": "LayoutView",
            "grid_template_rows": null,
            "right": null,
            "justify_content": null,
            "_view_module": "@jupyter-widgets/base",
            "overflow": null,
            "_model_module_version": "1.2.0",
            "_view_count": null,
            "flex_flow": null,
            "width": null,
            "min_width": null,
            "border": null,
            "align_items": null,
            "bottom": null,
            "_model_module": "@jupyter-widgets/base",
            "top": null,
            "grid_column": null,
            "overflow_y": null,
            "overflow_x": null,
            "grid_auto_flow": null,
            "grid_area": null,
            "grid_template_columns": null,
            "flex": null,
            "_model_name": "LayoutModel",
            "justify_items": null,
            "grid_row": null,
            "max_height": null,
            "align_content": null,
            "visibility": null,
            "align_self": null,
            "height": null,
            "min_height": null,
            "padding": null,
            "grid_auto_rows": null,
            "grid_gap": null,
            "max_width": null,
            "order": null,
            "_view_module_version": "1.2.0",
            "grid_template_areas": null,
            "object_position": null,
            "object_fit": null,
            "grid_auto_columns": null,
            "margin": null,
            "display": null,
            "left": null
          }
        },
        "6a08d79ac7dc402eaf04b24f47406442": {
          "model_module": "@jupyter-widgets/controls",
          "model_name": "SliderStyleModel",
          "state": {
            "_view_name": "StyleView",
            "handle_color": null,
            "_model_name": "SliderStyleModel",
            "description_width": "",
            "_view_module": "@jupyter-widgets/base",
            "_model_module_version": "1.5.0",
            "_view_count": null,
            "_view_module_version": "1.2.0",
            "_model_module": "@jupyter-widgets/controls"
          }
        },
        "9121f75732f14626a852edf17ce52ca3": {
          "model_module": "@jupyter-widgets/base",
          "model_name": "LayoutModel",
          "state": {
            "_view_name": "LayoutView",
            "grid_template_rows": null,
            "right": null,
            "justify_content": null,
            "_view_module": "@jupyter-widgets/base",
            "overflow": null,
            "_model_module_version": "1.2.0",
            "_view_count": null,
            "flex_flow": null,
            "width": null,
            "min_width": null,
            "border": null,
            "align_items": null,
            "bottom": null,
            "_model_module": "@jupyter-widgets/base",
            "top": null,
            "grid_column": null,
            "overflow_y": null,
            "overflow_x": null,
            "grid_auto_flow": null,
            "grid_area": null,
            "grid_template_columns": null,
            "flex": null,
            "_model_name": "LayoutModel",
            "justify_items": null,
            "grid_row": null,
            "max_height": null,
            "align_content": null,
            "visibility": null,
            "align_self": null,
            "height": null,
            "min_height": null,
            "padding": null,
            "grid_auto_rows": null,
            "grid_gap": null,
            "max_width": null,
            "order": null,
            "_view_module_version": "1.2.0",
            "grid_template_areas": null,
            "object_position": null,
            "object_fit": null,
            "grid_auto_columns": null,
            "margin": null,
            "display": null,
            "left": null
          }
        }
      }
    }
  },
  "cells": [
    {
      "cell_type": "markdown",
      "metadata": {
        "id": "hlKpps77JEOC",
        "colab_type": "text"
      },
      "source": [
        "## ML functions: Implementation in Python (Due: 2/28/20 - Friday)\n",
        "\n",
        "- In this third programming assignment, you will be implementing some important functions and algorithms used in machine learning. This assignment will help reinforce the basics of Python\n",
        "\n",
        "**Instructions:**\n",
        "- You will be using Python 3.\n",
        "- Avoid using for-loops and while-loops, unless you are explicitly told to do so.\n",
        "- Do not modify the (# GRADED FUNCTION [function name]) comment in some cells. Your work would not be graded if you change this. Each cell containing that comment should only contain one function.\n",
        "- After coding your function, run the cell right below it to check if your result is correct.\n",
        "\n",
        "**After this assignment you will:**\n",
        "- Understand the concept of \"broadcasting\"\n",
        "- Be able to vectorize code\n",
        "- Be familiar with the 'sigmoid function\"\n",
        "- Be familiar with the gradient descent algorithm  to optimize a function\n"
      ]
    },
    {
      "cell_type": "markdown",
      "metadata": {
        "id": "vSTz53AXJEOH",
        "colab_type": "text"
      },
      "source": [
        "## Note on completing this assignment ##\n",
        "You only need to write code between the ### START CODE HERE ### and ### END CODE HERE ### comments. After writing your code, you can run the cell by either pressing \"SHIFT\"+\"ENTER\" or by clicking on \"Run Cell\" (denoted by a play symbol) in the upper bar of the notebook. \n",
        "\n",
        "We will often specify \"(≈ X lines of code)\" in the comments to tell you about how much code you need to write. It is just a rough estimate, so don't feel bad if your code is longer or shorter.\n",
        "\n",
        "**Exercise**: Set test to `\"Hello World\"` in the cell below to print \"Hello World\" and run the two cells below."
      ]
    },
    {
      "cell_type": "code",
      "metadata": {
        "id": "AH4GVhRFJEOJ",
        "colab_type": "code",
        "colab": {}
      },
      "source": [
        "### START CODE HERE ### (≈ 1 line of code)\n",
        "test = \"Hello World\"\n",
        "### END CODE HERE ###"
      ],
      "execution_count": 0,
      "outputs": []
    },
    {
      "cell_type": "code",
      "metadata": {
        "id": "QwAqh94PJEOR",
        "colab_type": "code",
        "outputId": "b238b524-919a-48b2-961a-cc8f6089b4e2",
        "colab": {
          "base_uri": "https://localhost:8080/",
          "height": 35
        }
      },
      "source": [
        "print (\"test: \" + test)"
      ],
      "execution_count": 0,
      "outputs": [
        {
          "output_type": "stream",
          "text": [
            "test: Hello World\n"
          ],
          "name": "stdout"
        }
      ]
    },
    {
      "cell_type": "markdown",
      "metadata": {
        "id": "6adS2JHDJEOb",
        "colab_type": "text"
      },
      "source": [
        "**Expected output**:\n",
        "test: Hello World"
      ]
    },
    {
      "cell_type": "markdown",
      "metadata": {
        "id": "KaFw3bVlJEOc",
        "colab_type": "text"
      },
      "source": [
        "<font color='blue'>\n",
        "**What you need to remember**:\n",
        "- Run your cells using SHIFT+ENTER (or \"Run cell\")\n",
        "- Write code in the designated areas using Python 3 only\n",
        "- Do not modify the code outside of the designated areas"
      ]
    },
    {
      "cell_type": "markdown",
      "metadata": {
        "id": "RhrqrAZ4JEOe",
        "colab_type": "text"
      },
      "source": [
        "## 1 - Building basic functions with numpy ##\n",
        "\n",
        "Numpy is the main package for scientific computing in Python. It is maintained by a large community (www.numpy.org). In this exercise you will learn several key numpy functions such as np.exp, np.log, and np.reshape. You will need to know how to use these functions for future assignments.\n",
        "\n",
        "### 1.1 - sigmoid function, np.exp() ###\n",
        "\n",
        "Before using np.exp(), you will use math.exp() to implement the sigmoid function. You will then see why np.exp() is preferable to math.exp().\n",
        "\n",
        "#### <font color=blue> **Exercise 1**: </font> Build a function that returns the sigmoid of a real number x. Use math.exp(x) for the exponential function.\n",
        "\n",
        "**Reminder**:\n",
        "$sigmoid(x) = \\frac{1}{1+e^{-x}}$ is sometimes also known as the logistic function. It is a non-linear function used not only in Machine Learning (Logistic Regression), but also in Deep Learning.\n",
        "\n",
        "<img src=\"Sigmoid.png\" style=\"width:500px;height:400px;\">\n",
        "\n",
        "To refer to a function belonging to a specific package you could call it using package_name.function(). Run the code below to see an example with math.exp()."
      ]
    },
    {
      "cell_type": "code",
      "metadata": {
        "id": "V5QcP5w8JEOg",
        "colab_type": "code",
        "colab": {}
      },
      "source": [
        "# GRADED FUNCTION: basic_sigmoid\n",
        "\n",
        "import math\n",
        "\n",
        "def basic_sigmoid(x):\n",
        "    \"\"\"\n",
        "    Compute sigmoid of x.\n",
        "\n",
        "    Arguments:\n",
        "    x -- A scalar\n",
        "\n",
        "    Return:\n",
        "    s -- sigmoid(x)\n",
        "    \"\"\"\n",
        "    \n",
        "    ### START CODE HERE ### (≈ 1 line of code)\n",
        "    s = 1/(1+math.exp(-x))\n",
        "    ### END CODE HERE ###\n",
        "    \n",
        "    return s"
      ],
      "execution_count": 0,
      "outputs": []
    },
    {
      "cell_type": "code",
      "metadata": {
        "id": "uE8J8mk2JEOl",
        "colab_type": "code",
        "outputId": "f307e6d1-0801-492f-96f2-75b185bb5567",
        "colab": {
          "base_uri": "https://localhost:8080/",
          "height": 35
        }
      },
      "source": [
        "basic_sigmoid(3)"
      ],
      "execution_count": 0,
      "outputs": [
        {
          "output_type": "execute_result",
          "data": {
            "text/plain": [
              "0.9525741268224334"
            ]
          },
          "metadata": {
            "tags": []
          },
          "execution_count": 10
        }
      ]
    },
    {
      "cell_type": "markdown",
      "metadata": {
        "id": "dmrhET__JEOr",
        "colab_type": "text"
      },
      "source": [
        "**Expected Output**: \n",
        "<table style = \"width:40%\">\n",
        "    <tr>\n",
        "    <td>** basic_sigmoid(3) **</td> \n",
        "        <td>0.9525741268224334 </td> \n",
        "    </tr>\n",
        "\n",
        "</table>"
      ]
    },
    {
      "cell_type": "markdown",
      "metadata": {
        "id": "TY9VTE_BJEOs",
        "colab_type": "text"
      },
      "source": [
        "Actually, we rarely use the \"math\" library in deep learning because the inputs of the functions are real numbers. In deep learning we mostly use matrices and vectors. This is why numpy is more useful. "
      ]
    },
    {
      "cell_type": "code",
      "metadata": {
        "id": "PdJpS183JEOu",
        "colab_type": "code",
        "colab": {}
      },
      "source": [
        "### One reason why we use \"numpy\" instead of \"math\" in Deep Learning ###\n",
        "x = [1, 2, 3]\n",
        "basic_sigmoid(x) # you will see this give an error when you run it, because x is a vector."
      ],
      "execution_count": 0,
      "outputs": []
    },
    {
      "cell_type": "markdown",
      "metadata": {
        "id": "rdS2zQufJEO0",
        "colab_type": "text"
      },
      "source": [
        "In fact, if $ x = (x_1, x_2, ..., x_n)$ is a row vector then $np.exp(x)$ will apply the exponential function to every element of x. The output will thus be: $np.exp(x) = (e^{x_1}, e^{x_2}, ..., e^{x_n})$"
      ]
    },
    {
      "cell_type": "code",
      "metadata": {
        "id": "pq1OjQweJEO1",
        "colab_type": "code",
        "outputId": "dee6daed-bc03-4051-b440-48efa301a3cc",
        "colab": {
          "base_uri": "https://localhost:8080/",
          "height": 35
        }
      },
      "source": [
        "import numpy as np\n",
        "\n",
        "# example of np.exp\n",
        "x = np.array([1, 2, 3])\n",
        "print(np.exp(x)) # result is (exp(1), exp(2), exp(3))"
      ],
      "execution_count": 0,
      "outputs": [
        {
          "output_type": "stream",
          "text": [
            "[ 2.71828183  7.3890561  20.08553692]\n"
          ],
          "name": "stdout"
        }
      ]
    },
    {
      "cell_type": "markdown",
      "metadata": {
        "id": "nzA4SMn-JEO8",
        "colab_type": "text"
      },
      "source": [
        "Furthermore, if x is a vector, then a Python operation such as $s = x + 3$ or $s = \\frac{1}{x}$ will output s as a vector of the same size as x."
      ]
    },
    {
      "cell_type": "code",
      "metadata": {
        "id": "0pEoQD6iJEO-",
        "colab_type": "code",
        "outputId": "472d3091-afd9-4cf9-cb84-bcf19809cfc8",
        "colab": {
          "base_uri": "https://localhost:8080/",
          "height": 35
        }
      },
      "source": [
        "# example of vector operation\n",
        "x = np.array([1, 2, 3])\n",
        "print (x + 3)"
      ],
      "execution_count": 0,
      "outputs": [
        {
          "output_type": "stream",
          "text": [
            "[4 5 6]\n"
          ],
          "name": "stdout"
        }
      ]
    },
    {
      "cell_type": "markdown",
      "metadata": {
        "id": "BsjnrU3LJEPD",
        "colab_type": "text"
      },
      "source": [
        "Any time you need more info on a numpy function, we encourage you to look at [the official documentation](https://docs.scipy.org/doc/numpy-1.10.1/reference/generated/numpy.exp.html). \n",
        "\n",
        "You can also create a new cell in the notebook and write `np.exp?` (for example) to get quick access to the documentation.\n",
        "\n",
        "#### <font color=blue> **Exercise 2**: </font> Now implement the sigmoid function using numpy. \n",
        "\n",
        "**Instructions**: x could now be either a real number, a vector, or a matrix. The data structures we use in numpy to represent these shapes (vectors, matrices...) are called numpy arrays. You don't need to know more for now.\n",
        "$$ \\text{For } x \\in \\mathbb{R}^n \\text{,     } sigmoid(x) = sigmoid(\\begin{pmatrix}\n",
        "    x_1  \\\\\n",
        "    x_2  \\\\\n",
        "    ...  \\\\\n",
        "    x_n  \\\\\n",
        "\\end{pmatrix}) = \\begin{pmatrix}\n",
        "    \\frac{1}{1+e^{-x_1}}  \\\\\n",
        "    \\frac{1}{1+e^{-x_2}}  \\\\\n",
        "    ...  \\\\\n",
        "    \\frac{1}{1+e^{-x_n}}  \\\\\n",
        "\\end{pmatrix}\\tag{1} $$"
      ]
    },
    {
      "cell_type": "code",
      "metadata": {
        "id": "Is_Cv7ujJEPE",
        "colab_type": "code",
        "colab": {}
      },
      "source": [
        "# GRADED FUNCTION: sigmoid\n",
        "\n",
        "import numpy as np # this means you can access numpy functions by writing np.function() instead of numpy.function()\n",
        "\n",
        "def sigmoid(x):\n",
        "    \"\"\"\n",
        "    Compute the sigmoid of x\n",
        "\n",
        "    Arguments:\n",
        "    x -- A scalar or numpy array of any size\n",
        "\n",
        "    Return:\n",
        "    s -- sigmoid(x)\n",
        "    \"\"\"\n",
        "    \n",
        "    ### START CODE HERE ### (≈ 1 line of code)\n",
        "    s = 1/(1+np.exp(-x))\n",
        "    ### END CODE HERE ###\n",
        "    \n",
        "    return s"
      ],
      "execution_count": 0,
      "outputs": []
    },
    {
      "cell_type": "code",
      "metadata": {
        "id": "k2RrJeYRJEPK",
        "colab_type": "code",
        "outputId": "abee8445-219b-484d-d996-a1139fffec22",
        "colab": {
          "base_uri": "https://localhost:8080/",
          "height": 35
        }
      },
      "source": [
        "x = np.array([1, 2, 3])\n",
        "sigmoid(x)"
      ],
      "execution_count": 0,
      "outputs": [
        {
          "output_type": "execute_result",
          "data": {
            "text/plain": [
              "array([0.73105858, 0.88079708, 0.95257413])"
            ]
          },
          "metadata": {
            "tags": []
          },
          "execution_count": 14
        }
      ]
    },
    {
      "cell_type": "markdown",
      "metadata": {
        "id": "xG6N_iffJEPP",
        "colab_type": "text"
      },
      "source": [
        "**Expected Output**: \n",
        "<table>\n",
        "    <tr> \n",
        "        <td> **sigmoid([1,2,3])**</td> \n",
        "        <td> array([ 0.73105858,  0.88079708,  0.95257413]) </td> \n",
        "    </tr>\n",
        "</table> \n"
      ]
    },
    {
      "cell_type": "markdown",
      "metadata": {
        "id": "FYpZz6SjJEPQ",
        "colab_type": "text"
      },
      "source": [
        "### 1.2 - Sigmoid gradient\n",
        "\n",
        "As you've seen in lecture, you will need to compute gradients to optimize loss functions using backpropagation. Let's code your first gradient function.\n",
        "\n",
        "#### <font color=blue> **Exercise 3**: </font> Implement the function sigmoid_grad() to compute the gradient of the sigmoid function with respect to its input x. The formula is: $$sigmoid\\_derivative(x) = \\sigma'(x) = \\sigma(x) (1 - \\sigma(x))\\tag{2}$$\n",
        "You often code this function in two steps:\n",
        "1. Set s to be the sigmoid of x. You might find your sigmoid(x) function useful.\n",
        "2. Compute $\\sigma'(x) = s(1-s)$"
      ]
    },
    {
      "cell_type": "code",
      "metadata": {
        "id": "9JJcSHiEJEPS",
        "colab_type": "code",
        "colab": {}
      },
      "source": [
        "# GRADED FUNCTION: sigmoid_derivative\n",
        "\n",
        "def sigmoid_derivative(x):\n",
        "    \"\"\"\n",
        "    Compute the gradient (also called the slope or derivative) of the sigmoid function with respect to its input x.\n",
        "    You can store the output of the sigmoid function into variables and then use it to calculate the gradient.\n",
        "    \n",
        "    Arguments:\n",
        "    x -- A scalar or numpy array\n",
        "\n",
        "    Return:\n",
        "    ds -- Your computed gradient.\n",
        "    \"\"\"\n",
        "    \n",
        "    ### START CODE HERE ### (≈ 2 lines of code)\n",
        "    s = 1/(1+np.exp(-x))\n",
        "    ds = s*(1-s)\n",
        "    ### END CODE HERE ###\n",
        "    \n",
        "    return ds"
      ],
      "execution_count": 0,
      "outputs": []
    },
    {
      "cell_type": "code",
      "metadata": {
        "id": "XP9vC_kgJEPY",
        "colab_type": "code",
        "outputId": "6cac3264-b427-401e-b817-3aa5f2664deb",
        "colab": {
          "base_uri": "https://localhost:8080/",
          "height": 35
        }
      },
      "source": [
        "x = np.array([1, 2, 3])\n",
        "print (\"sigmoid_derivative(x) = \" + str(sigmoid_derivative(x)))"
      ],
      "execution_count": 0,
      "outputs": [
        {
          "output_type": "stream",
          "text": [
            "sigmoid_derivative(x) = [0.19661193 0.10499359 0.04517666]\n"
          ],
          "name": "stdout"
        }
      ]
    },
    {
      "cell_type": "markdown",
      "metadata": {
        "id": "_TGBgywGJEPe",
        "colab_type": "text"
      },
      "source": [
        "**Expected Output**: \n",
        "\n",
        "\n",
        "<table>\n",
        "    <tr> \n",
        "        <td> **sigmoid_derivative([1,2,3])**</td> \n",
        "        <td> [ 0.19661193  0.10499359  0.04517666] </td> \n",
        "    </tr>\n",
        "</table> \n",
        "\n"
      ]
    },
    {
      "cell_type": "markdown",
      "metadata": {
        "id": "ru-Hz2L4JEPg",
        "colab_type": "text"
      },
      "source": [
        "### 1.3 - Reshaping arrays ###\n",
        "\n",
        "Two common numpy functions used in deep learning are [np.shape](https://docs.scipy.org/doc/numpy/reference/generated/numpy.ndarray.shape.html) and [np.reshape()](https://docs.scipy.org/doc/numpy/reference/generated/numpy.reshape.html). \n",
        "- X.shape is used to get the shape (dimension) of a matrix/vector X. \n",
        "- X.reshape(...) is used to reshape X into some other dimension. \n",
        "\n",
        "For example, in computers, an image is typically stored as a 3D array of shape $(length, height, depth = 3)$. However, when you read an image as the input of an algorithm you convert it to a vector of shape $(length*height*3, 1)$. In other words, you \"unroll\", or reshape, the 3D array into a 1D vector.\n",
        "\n",
        "<img src=\"image2vector_kiank.png\" style=\"width:500px;height:300;\">\n",
        "\n",
        "#### <font color=blue> **Exercise 4**: </font> Implement `image2vector()` that takes an input of shape (length, height, 3) and returns a vector of shape (length\\*height\\*3, 1). For example, if you would like to reshape an array v of shape (a, b, c) into a vector of shape (a*b,c) you would do:\n",
        "``` python\n",
        "v = v.reshape((v.shape[0]*v.shape[1], v.shape[2])) # v.shape[0] = a ; v.shape[1] = b ; v.shape[2] = c\n",
        "```\n",
        "- Please don't hardcode the dimensions of image as a constant. Instead look up the quantities you need with `image.shape[0]`, etc. "
      ]
    },
    {
      "cell_type": "code",
      "metadata": {
        "id": "UEi8rV_6JEPh",
        "colab_type": "code",
        "colab": {}
      },
      "source": [
        "# GRADED FUNCTION: image2vector\n",
        "def image2vector(image):\n",
        "    \"\"\"\n",
        "    Argument:\n",
        "    image -- a numpy array of shape (length, height, depth)\n",
        "    \n",
        "    Returns:\n",
        "    v -- a vector of shape (length*height*depth, 1)\n",
        "    \"\"\"\n",
        "    \n",
        "    ### START CODE HERE ### (≈ 1 line of code)\n",
        "    v = image.reshape((image.shape[0]*image.shape[1], image.shape[2])) ##a three dimensional array reshaped into two. \n",
        "    ### END CODE HERE ###\n",
        "    \n",
        "    return v"
      ],
      "execution_count": 0,
      "outputs": []
    },
    {
      "cell_type": "code",
      "metadata": {
        "id": "R1WNjGNoJEPn",
        "colab_type": "code",
        "outputId": "2d1582af-25f6-446f-e40a-061a119f7406",
        "colab": {
          "base_uri": "https://localhost:8080/",
          "height": 180
        }
      },
      "source": [
        "# This is a 3 by 3 by 2 array, typically images will be (num_px_x, num_px_y,3) where 3 represents the RGB values\n",
        "image = np.array([[[ 0.67826139,  0.29380381],\n",
        "        [ 0.90714982,  0.52835647],\n",
        "        [ 0.4215251 ,  0.45017551]],\n",
        "\n",
        "       [[ 0.92814219,  0.96677647],\n",
        "        [ 0.85304703,  0.52351845],\n",
        "        [ 0.19981397,  0.27417313]],\n",
        "\n",
        "       [[ 0.60659855,  0.00533165],\n",
        "        [ 0.10820313,  0.49978937],\n",
        "        [ 0.34144279,  0.94630077]]])\n",
        "\n",
        "print (\"image2vector(image) = \" + str(image2vector(image)))"
      ],
      "execution_count": 0,
      "outputs": [
        {
          "output_type": "stream",
          "text": [
            "image2vector(image) = [[0.67826139 0.29380381]\n",
            " [0.90714982 0.52835647]\n",
            " [0.4215251  0.45017551]\n",
            " [0.92814219 0.96677647]\n",
            " [0.85304703 0.52351845]\n",
            " [0.19981397 0.27417313]\n",
            " [0.60659855 0.00533165]\n",
            " [0.10820313 0.49978937]\n",
            " [0.34144279 0.94630077]]\n"
          ],
          "name": "stdout"
        }
      ]
    },
    {
      "cell_type": "markdown",
      "metadata": {
        "id": "JgmVzRYqJEPs",
        "colab_type": "text"
      },
      "source": [
        "**Expected Output**: \n",
        "\n",
        "\n",
        "<table style=\"width:100%\">\n",
        "     <tr> \n",
        "       <td> **image2vector(image)** </td> \n",
        "       <td> [[ 0.67826139]\n",
        " [ 0.29380381]\n",
        " [ 0.90714982]\n",
        " [ 0.52835647]\n",
        " [ 0.4215251 ]\n",
        " [ 0.45017551]\n",
        " [ 0.92814219]\n",
        " [ 0.96677647]\n",
        " [ 0.85304703]\n",
        " [ 0.52351845]\n",
        " [ 0.19981397]\n",
        " [ 0.27417313]\n",
        " [ 0.60659855]\n",
        " [ 0.00533165]\n",
        " [ 0.10820313]\n",
        " [ 0.49978937]\n",
        " [ 0.34144279]\n",
        " [ 0.94630077]]</td> \n",
        "     </tr>\n",
        "    \n",
        "   \n",
        "</table>"
      ]
    },
    {
      "cell_type": "markdown",
      "metadata": {
        "id": "h0ArQUYWJEPt",
        "colab_type": "text"
      },
      "source": [
        "### 1.4 - Normalizing rows\n",
        "\n",
        "Another common technique we use in Machine Learning and Deep Learning is to normalize our data. It often leads to a better performance because gradient descent converges faster after normalization. Here, by normalization we mean changing x to $ \\frac{x}{\\| x\\|} $ (dividing each row vector of x by its norm).\n",
        "\n",
        "For example, if $$x = \n",
        "\\begin{bmatrix}\n",
        "    0 & 3 & 4 \\\\\n",
        "    2 & 6 & 4 \\\\\n",
        "\\end{bmatrix}\\tag{3}$$ then $$\\| x\\| = np.linalg.norm(x, axis = 1, keepdims = True) = \\begin{bmatrix}\n",
        "    5 \\\\\n",
        "    \\sqrt{56} \\\\\n",
        "\\end{bmatrix}\\tag{4} $$and        $$ x\\_normalized = \\frac{x}{\\| x\\|} = \\begin{bmatrix}\n",
        "    0 & \\frac{3}{5} & \\frac{4}{5} \\\\\n",
        "    \\frac{2}{\\sqrt{56}} & \\frac{6}{\\sqrt{56}} & \\frac{4}{\\sqrt{56}} \\\\\n",
        "\\end{bmatrix}\\tag{5}$$ Note that you can divide matrices of different sizes and it works fine: this is called broadcasting and you're going to learn about it in part 5.\n",
        "\n",
        "\n",
        "#### <font color=blue> **Exercise 5**: </font> Implement normalizeRows() to normalize the rows of a matrix. After applying this function to an input matrix x, each row of x should be a vector of unit length (meaning length 1)."
      ]
    },
    {
      "cell_type": "code",
      "metadata": {
        "id": "f_0zK6s9JEPv",
        "colab_type": "code",
        "colab": {}
      },
      "source": [
        "# GRADED FUNCTION: normalizeRows\n",
        "\n",
        "def normalizeRows(x):\n",
        "    \"\"\"\n",
        "    Implement a function that normalizes each row of the matrix x (to have unit length).\n",
        "    \n",
        "    Argument:\n",
        "    x -- A numpy matrix of shape (n, m)\n",
        "    \n",
        "    Returns:\n",
        "    x -- The normalized (by row) numpy matrix. You are allowed to modify x.\n",
        "    \"\"\"\n",
        "    \n",
        "    ### START CODE HERE ### (≈ 2 lines of code)\n",
        "    # Compute x_norm as the norm 2 of x. Use np.linalg.norm(..., ord = 2, axis = ..., keepdims = True)\n",
        "    x_norm = np.linalg.norm(x, ord=2, axis=1, keepdims=True)\n",
        "    \n",
        "    # Divide x by its norm.\n",
        "    x = x/x_norm\n",
        "    ### END CODE HERE ###\n",
        "\n",
        "    return x"
      ],
      "execution_count": 0,
      "outputs": []
    },
    {
      "cell_type": "code",
      "metadata": {
        "id": "N9WnlZJwJEP0",
        "colab_type": "code",
        "outputId": "3ef91507-a69d-43b1-bdde-2bae53de9ae3",
        "colab": {
          "base_uri": "https://localhost:8080/",
          "height": 53
        }
      },
      "source": [
        "x = np.array([\n",
        "    [0, 3, 4],\n",
        "    [1, 6, 4]])\n",
        "print(\"normalizeRows(x) = \" + str(normalizeRows(x)))"
      ],
      "execution_count": 0,
      "outputs": [
        {
          "output_type": "stream",
          "text": [
            "normalizeRows(x) = [[0.         0.6        0.8       ]\n",
            " [0.13736056 0.82416338 0.54944226]]\n"
          ],
          "name": "stdout"
        }
      ]
    },
    {
      "cell_type": "markdown",
      "metadata": {
        "id": "y8x9m05RJEP9",
        "colab_type": "text"
      },
      "source": [
        "**Expected Output**: \n",
        "\n",
        "<table style=\"width:60%\">\n",
        "\n",
        "     <tr> \n",
        "       <td> **normalizeRows(x)** </td> \n",
        "       <td> [[ 0.          0.6         0.8       ]\n",
        " [ 0.13736056  0.82416338  0.54944226]]</td> \n",
        "     </tr>\n",
        "    \n",
        "   \n",
        "</table>"
      ]
    },
    {
      "cell_type": "markdown",
      "metadata": {
        "id": "x0PZ6H1sJEP_",
        "colab_type": "text"
      },
      "source": [
        "**Note**:\n",
        "In normalizeRows(), you can try to print the shapes of x_norm and x, and then rerun the assessment. You'll find out that they have different shapes. This is normal given that x_norm takes the norm of each row of x. So x_norm has the same number of rows but only 1 column. So how did it work when you divided x by x_norm? This is called broadcasting and we'll talk about it now! "
      ]
    },
    {
      "cell_type": "markdown",
      "metadata": {
        "id": "5XzOw070JEQA",
        "colab_type": "text"
      },
      "source": [
        "### 1.5 - Broadcasting and the softmax function ####\n",
        "A very important concept to understand in numpy is \"broadcasting\". It is very useful for performing mathematical operations between arrays of different shapes. For the full details on broadcasting, you can read the official [broadcasting documentation](http://docs.scipy.org/doc/numpy/user/basics.broadcasting.html)."
      ]
    },
    {
      "cell_type": "markdown",
      "metadata": {
        "id": "KbO8OOZRJEQC",
        "colab_type": "text"
      },
      "source": [
        "#### <font color=blue> **Exercise 6**: </font> Implement a softmax function using numpy. You can think of softmax as a normalizing function used when your algorithm needs to classify two or more classes. You will learn more about softmax in the second course of this specialization.\n",
        "\n",
        "**Instructions**:\n",
        "- $ \\text{for } x \\in \\mathbb{R}^{1\\times n} \\text{,     } softmax(x) = softmax(\\begin{bmatrix}\n",
        "    x_1  &&\n",
        "    x_2 &&\n",
        "    ...  &&\n",
        "    x_n  \n",
        "\\end{bmatrix}) = \\begin{bmatrix}\n",
        "     \\frac{e^{x_1}}{\\sum_{j}e^{x_j}}  &&\n",
        "    \\frac{e^{x_2}}{\\sum_{j}e^{x_j}}  &&\n",
        "    ...  &&\n",
        "    \\frac{e^{x_n}}{\\sum_{j}e^{x_j}} \n",
        "\\end{bmatrix} $ \n",
        "\n",
        "- $\\text{for a matrix } x \\in \\mathbb{R}^{m \\times n} \\text{,  $x_{ij}$ maps to the element in the $i^{th}$ row and $j^{th}$ column of $x$, thus we have: }$  $$softmax(x) = softmax\\begin{bmatrix}\n",
        "    x_{11} & x_{12} & x_{13} & \\dots  & x_{1n} \\\\\n",
        "    x_{21} & x_{22} & x_{23} & \\dots  & x_{2n} \\\\\n",
        "    \\vdots & \\vdots & \\vdots & \\ddots & \\vdots \\\\\n",
        "    x_{m1} & x_{m2} & x_{m3} & \\dots  & x_{mn}\n",
        "\\end{bmatrix} = \\begin{bmatrix}\n",
        "    \\frac{e^{x_{11}}}{\\sum_{j}e^{x_{1j}}} & \\frac{e^{x_{12}}}{\\sum_{j}e^{x_{1j}}} & \\frac{e^{x_{13}}}{\\sum_{j}e^{x_{1j}}} & \\dots  & \\frac{e^{x_{1n}}}{\\sum_{j}e^{x_{1j}}} \\\\\n",
        "    \\frac{e^{x_{21}}}{\\sum_{j}e^{x_{2j}}} & \\frac{e^{x_{22}}}{\\sum_{j}e^{x_{2j}}} & \\frac{e^{x_{23}}}{\\sum_{j}e^{x_{2j}}} & \\dots  & \\frac{e^{x_{2n}}}{\\sum_{j}e^{x_{2j}}} \\\\\n",
        "    \\vdots & \\vdots & \\vdots & \\ddots & \\vdots \\\\\n",
        "    \\frac{e^{x_{m1}}}{\\sum_{j}e^{x_{mj}}} & \\frac{e^{x_{m2}}}{\\sum_{j}e^{x_{mj}}} & \\frac{e^{x_{m3}}}{\\sum_{j}e^{x_{mj}}} & \\dots  & \\frac{e^{x_{mn}}}{\\sum_{j}e^{x_{mj}}}\n",
        "\\end{bmatrix} = \\begin{pmatrix}\n",
        "    softmax\\text{(first row of x)}  \\\\\n",
        "    softmax\\text{(second row of x)} \\\\\n",
        "    ...  \\\\\n",
        "    softmax\\text{(last row of x)} \\\\\n",
        "\\end{pmatrix} $$"
      ]
    },
    {
      "cell_type": "code",
      "metadata": {
        "id": "LZ76BKKyJEQE",
        "colab_type": "code",
        "colab": {}
      },
      "source": [
        "# GRADED FUNCTION: softmax\n",
        "\n",
        "def softmax(x):\n",
        "    \"\"\"Calculates the softmax for each row of the input x.\n",
        "\n",
        "    Your code should work for a row vector and also for matrices of shape (n, m).\n",
        "\n",
        "    Argument:\n",
        "    x -- A numpy matrix of shape (n,m)\n",
        "\n",
        "    Returns:\n",
        "    s -- A numpy matrix equal to the softmax of x, of shape (n,m)\n",
        "    \"\"\"\n",
        "    \n",
        "    ### START CODE HERE ### (≈ 3 lines of code)\n",
        "    # Apply exp() element-wise to x. Use np.exp(...).\n",
        "    x_exp = np.exp(x)\n",
        "\n",
        "    # Create a vector x_sum that sums each row of x_exp. Use np.sum(..., axis = 1, keepdims = True).\n",
        "    x_sum = np.sum(x_exp, axis=1, keepdims=True)\n",
        "    \n",
        "    # Compute softmax(x) by dividing x_exp by x_sum. It should automatically use numpy broadcasting.\n",
        "    s = x_exp/x_sum\n",
        "\n",
        "    ### END CODE HERE ###\n",
        "    \n",
        "    return s"
      ],
      "execution_count": 0,
      "outputs": []
    },
    {
      "cell_type": "code",
      "metadata": {
        "id": "In0i9i0KJEQK",
        "colab_type": "code",
        "outputId": "953dcfe7-918c-4f47-d523-68b5851a121d",
        "colab": {
          "base_uri": "https://localhost:8080/",
          "height": 89
        }
      },
      "source": [
        "x = np.array([\n",
        "    [9, 2, 5, 0, 0],\n",
        "    [7, 5, 0, 0 ,0]])\n",
        "print(\"softmax(x) = \" + str(softmax(x)))"
      ],
      "execution_count": 0,
      "outputs": [
        {
          "output_type": "stream",
          "text": [
            "softmax(x) = [[9.80897665e-01 8.94462891e-04 1.79657674e-02 1.21052389e-04\n",
            "  1.21052389e-04]\n",
            " [8.78679856e-01 1.18916387e-01 8.01252314e-04 8.01252314e-04\n",
            "  8.01252314e-04]]\n"
          ],
          "name": "stdout"
        }
      ]
    },
    {
      "cell_type": "markdown",
      "metadata": {
        "id": "EceNQH4AJEQQ",
        "colab_type": "text"
      },
      "source": [
        "**Expected Output**:\n",
        "\n",
        "<table style=\"width:60%\">\n",
        "\n",
        "     <tr> \n",
        "       <td> **softmax(x)** </td> \n",
        "       <td> [[  9.80897665e-01   8.94462891e-04   1.79657674e-02   1.21052389e-04\n",
        "    1.21052389e-04]\n",
        " [  8.78679856e-01   1.18916387e-01   8.01252314e-04   8.01252314e-04\n",
        "    8.01252314e-04]]</td> \n",
        "     </tr>\n",
        "</table>\n"
      ]
    },
    {
      "cell_type": "markdown",
      "metadata": {
        "id": "2yGtdlXHJEQS",
        "colab_type": "text"
      },
      "source": [
        "**Note**:\n",
        "- If you print the shapes of x_exp, x_sum and s above and rerun the assessment cell, you will see that x_sum is of shape (2,1) while x_exp and s are of shape (2,5). **x_exp/x_sum** works due to python broadcasting.\n",
        "\n",
        "Congratulations! You now have a pretty good understanding of python numpy and have implemented a few useful functions that you will be using in deep learning."
      ]
    },
    {
      "cell_type": "markdown",
      "metadata": {
        "id": "tiZWpoSUJEQT",
        "colab_type": "text"
      },
      "source": [
        "<font color='blue'>\n",
        "**What you need to remember:**\n",
        "- np.exp(x) works for any np.array x and applies the exponential function to every coordinate\n",
        "- the sigmoid function and its gradient\n",
        "- image2vector is commonly used in deep learning\n",
        "- np.reshape is widely used. In the future, you'll see that keeping your matrix/vector dimensions straight will go toward eliminating a lot of bugs. \n",
        "- numpy has efficient built-in functions\n",
        "- broadcasting is extremely useful"
      ]
    },
    {
      "cell_type": "markdown",
      "metadata": {
        "collapsed": true,
        "id": "rWclSoCtJEQV",
        "colab_type": "text"
      },
      "source": [
        "## 2) Vectorization"
      ]
    },
    {
      "cell_type": "markdown",
      "metadata": {
        "id": "g6VIYGimJEQX",
        "colab_type": "text"
      },
      "source": [
        "\n",
        "In deep learning, you deal with very large datasets. Hence, a non-computationally-optimal function can become a huge bottleneck in your algorithm and can result in a model that takes ages to run. To make sure that your code is  computationally efficient, you will use vectorization. For example, try to tell the difference between the following implementations of the dot/outer/elementwise product."
      ]
    },
    {
      "cell_type": "code",
      "metadata": {
        "id": "_fjlR_qeJEQb",
        "colab_type": "code",
        "outputId": "37729529-2d39-492a-e1fe-8749d1b59044",
        "colab": {
          "base_uri": "https://localhost:8080/",
          "height": 416
        }
      },
      "source": [
        "import time\n",
        "\n",
        "x1 = [9, 2, 5, 0, 0, 7, 5, 0, 0, 0, 9, 2, 5, 0, 0]\n",
        "x2 = [9, 2, 2, 9, 0, 9, 2, 5, 0, 0, 9, 2, 5, 0, 0]\n",
        "\n",
        "### CLASSIC DOT PRODUCT OF VECTORS IMPLEMENTATION ###\n",
        "tic = time.process_time()\n",
        "dot = 0\n",
        "for i in range(len(x1)):\n",
        "    dot+= x1[i]*x2[i]\n",
        "toc = time.process_time()\n",
        "print (\"dot = \" + str(dot) + \"\\n ----- Computation time = \" + str(1000*(toc - tic)) + \"ms\")\n",
        "\n",
        "### CLASSIC OUTER PRODUCT IMPLEMENTATION ###\n",
        "tic = time.process_time()\n",
        "outer = np.zeros((len(x1),len(x2))) # we create a len(x1)*len(x2) matrix with only zeros\n",
        "for i in range(len(x1)):\n",
        "    for j in range(len(x2)):\n",
        "        outer[i,j] = x1[i]*x2[j]\n",
        "toc = time.process_time()\n",
        "print (\"outer = \" + str(outer) + \"\\n ----- Computation time = \" + str(1000*(toc - tic)) + \"ms\")\n",
        "\n",
        "### CLASSIC ELEMENTWISE IMPLEMENTATION ###\n",
        "tic = time.process_time()\n",
        "mul = np.zeros(len(x1))\n",
        "for i in range(len(x1)):\n",
        "    mul[i] = x1[i]*x2[i]\n",
        "toc = time.process_time()\n",
        "print (\"elementwise multiplication = \" + str(mul) + \"\\n ----- Computation time = \" + str(1000*(toc - tic)) + \"ms\")\n",
        "\n",
        "### CLASSIC GENERAL DOT PRODUCT IMPLEMENTATION ###\n",
        "W = np.random.rand(3,len(x1)) # Random 3*len(x1) numpy array\n",
        "tic = time.process_time()\n",
        "gdot = np.zeros(W.shape[0])\n",
        "for i in range(W.shape[0]):\n",
        "    for j in range(len(x1)):\n",
        "        gdot[i] += W[i,j]*x1[j]\n",
        "toc = time.process_time()\n",
        "print (\"gdot = \" + str(gdot) + \"\\n ----- Computation time = \" + str(1000*(toc - tic)) + \"ms\")"
      ],
      "execution_count": 0,
      "outputs": [
        {
          "output_type": "stream",
          "text": [
            "dot = 278\n",
            " ----- Computation time = 0.15392099999989028ms\n",
            "outer = [[81. 18. 18. 81.  0. 81. 18. 45.  0.  0. 81. 18. 45.  0.  0.]\n",
            " [18.  4.  4. 18.  0. 18.  4. 10.  0.  0. 18.  4. 10.  0.  0.]\n",
            " [45. 10. 10. 45.  0. 45. 10. 25.  0.  0. 45. 10. 25.  0.  0.]\n",
            " [ 0.  0.  0.  0.  0.  0.  0.  0.  0.  0.  0.  0.  0.  0.  0.]\n",
            " [ 0.  0.  0.  0.  0.  0.  0.  0.  0.  0.  0.  0.  0.  0.  0.]\n",
            " [63. 14. 14. 63.  0. 63. 14. 35.  0.  0. 63. 14. 35.  0.  0.]\n",
            " [45. 10. 10. 45.  0. 45. 10. 25.  0.  0. 45. 10. 25.  0.  0.]\n",
            " [ 0.  0.  0.  0.  0.  0.  0.  0.  0.  0.  0.  0.  0.  0.  0.]\n",
            " [ 0.  0.  0.  0.  0.  0.  0.  0.  0.  0.  0.  0.  0.  0.  0.]\n",
            " [ 0.  0.  0.  0.  0.  0.  0.  0.  0.  0.  0.  0.  0.  0.  0.]\n",
            " [81. 18. 18. 81.  0. 81. 18. 45.  0.  0. 81. 18. 45.  0.  0.]\n",
            " [18.  4.  4. 18.  0. 18.  4. 10.  0.  0. 18.  4. 10.  0.  0.]\n",
            " [45. 10. 10. 45.  0. 45. 10. 25.  0.  0. 45. 10. 25.  0.  0.]\n",
            " [ 0.  0.  0.  0.  0.  0.  0.  0.  0.  0.  0.  0.  0.  0.  0.]\n",
            " [ 0.  0.  0.  0.  0.  0.  0.  0.  0.  0.  0.  0.  0.  0.  0.]]\n",
            " ----- Computation time = 0.3427380000000646ms\n",
            "elementwise multiplication = [81.  4. 10.  0.  0. 63. 10.  0.  0.  0. 81.  4. 25.  0.  0.]\n",
            " ----- Computation time = 0.18263300000009863ms\n",
            "gdot = [18.18364851 22.21476001 26.97232272]\n",
            " ----- Computation time = 0.3252700000002662ms\n"
          ],
          "name": "stdout"
        }
      ]
    },
    {
      "cell_type": "code",
      "metadata": {
        "id": "c209suLbJEQh",
        "colab_type": "code",
        "outputId": "dbb8170b-e322-422d-f7f3-fd875c4dd248",
        "colab": {
          "base_uri": "https://localhost:8080/",
          "height": 416
        }
      },
      "source": [
        "x1 = [9, 2, 5, 0, 0, 7, 5, 0, 0, 0, 9, 2, 5, 0, 0]\n",
        "x2 = [9, 2, 2, 9, 0, 9, 2, 5, 0, 0, 9, 2, 5, 0, 0]\n",
        "\n",
        "### VECTORIZED DOT PRODUCT OF VECTORS ###\n",
        "tic = time.process_time()\n",
        "dot = np.dot(x1,x2)\n",
        "toc = time.process_time()\n",
        "print (\"dot = \" + str(dot) + \"\\n ----- Computation time = \" + str(1000*(toc - tic)) + \"ms\")\n",
        "\n",
        "### VECTORIZED OUTER PRODUCT ###\n",
        "tic = time.process_time()\n",
        "outer = np.outer(x1,x2)\n",
        "toc = time.process_time()\n",
        "print (\"outer = \" + str(outer) + \"\\n ----- Computation time = \" + str(1000*(toc - tic)) + \"ms\")\n",
        "\n",
        "### VECTORIZED ELEMENTWISE MULTIPLICATION ###\n",
        "tic = time.process_time()\n",
        "mul = np.multiply(x1,x2)\n",
        "toc = time.process_time()\n",
        "print (\"elementwise multiplication = \" + str(mul) + \"\\n ----- Computation time = \" + str(1000*(toc - tic)) + \"ms\")\n",
        "\n",
        "### VECTORIZED GENERAL DOT PRODUCT ###\n",
        "tic = time.process_time()\n",
        "dot = np.dot(W,x1)\n",
        "toc = time.process_time()\n",
        "print (\"gdot = \" + str(dot) + \"\\n ----- Computation time = \" + str(1000*(toc - tic)) + \"ms\")"
      ],
      "execution_count": 0,
      "outputs": [
        {
          "output_type": "stream",
          "text": [
            "dot = 278\n",
            " ----- Computation time = 0.16472000000034015ms\n",
            "outer = [[81 18 18 81  0 81 18 45  0  0 81 18 45  0  0]\n",
            " [18  4  4 18  0 18  4 10  0  0 18  4 10  0  0]\n",
            " [45 10 10 45  0 45 10 25  0  0 45 10 25  0  0]\n",
            " [ 0  0  0  0  0  0  0  0  0  0  0  0  0  0  0]\n",
            " [ 0  0  0  0  0  0  0  0  0  0  0  0  0  0  0]\n",
            " [63 14 14 63  0 63 14 35  0  0 63 14 35  0  0]\n",
            " [45 10 10 45  0 45 10 25  0  0 45 10 25  0  0]\n",
            " [ 0  0  0  0  0  0  0  0  0  0  0  0  0  0  0]\n",
            " [ 0  0  0  0  0  0  0  0  0  0  0  0  0  0  0]\n",
            " [ 0  0  0  0  0  0  0  0  0  0  0  0  0  0  0]\n",
            " [81 18 18 81  0 81 18 45  0  0 81 18 45  0  0]\n",
            " [18  4  4 18  0 18  4 10  0  0 18  4 10  0  0]\n",
            " [45 10 10 45  0 45 10 25  0  0 45 10 25  0  0]\n",
            " [ 0  0  0  0  0  0  0  0  0  0  0  0  0  0  0]\n",
            " [ 0  0  0  0  0  0  0  0  0  0  0  0  0  0  0]]\n",
            " ----- Computation time = 0.17583599999992927ms\n",
            "elementwise multiplication = [81  4 10  0  0 63 10  0  0  0 81  4 25  0  0]\n",
            " ----- Computation time = 0.13535299999967165ms\n",
            "gdot = [18.18364851 22.21476001 26.97232272]\n",
            " ----- Computation time = 0.7342279999997814ms\n"
          ],
          "name": "stdout"
        }
      ]
    },
    {
      "cell_type": "markdown",
      "metadata": {
        "id": "woP7SdHzJEQm",
        "colab_type": "text"
      },
      "source": [
        "As you may have noticed, the vectorized implementation is much cleaner and more efficient. For bigger vectors/matrices, the differences in running time become even bigger. \n",
        "\n",
        "**Note** that `np.dot()` performs a matrix-matrix or matrix-vector multiplication. This is different from `np.multiply()` and the `*` operator (which is equivalent to  `.*` in Matlab/Octave), which performs an element-wise multiplication."
      ]
    },
    {
      "cell_type": "markdown",
      "metadata": {
        "id": "D3DLGpKjJEQo",
        "colab_type": "text"
      },
      "source": [
        "### 2.1 Implement the L1 and L2 loss functions\n",
        "\n",
        "#### <font color=blue> **Exercise 7**: </font> Implement the numpy vectorized version of the L1 loss. You may find the function abs(x) (absolute value of x) useful.\n",
        "\n",
        "**Reminder**:\n",
        "- The loss is used to evaluate the performance of your model. The bigger your loss is, the more different your predictions ($ \\hat{y} $) are from the true values ($y$). In deep learning, you use optimization algorithms like Gradient Descent to train your model and to minimize the cost.\n",
        "- L1 loss is defined as:\n",
        "$$\\begin{align*} & L_1(\\hat{y}, y) = \\sum_{i=0}^m|y^{(i)} - \\hat{y}^{(i)}| \\end{align*}\\tag{6}$$"
      ]
    },
    {
      "cell_type": "code",
      "metadata": {
        "id": "AVQDVclmJEQr",
        "colab_type": "code",
        "colab": {}
      },
      "source": [
        "# GRADED FUNCTION: L1\n",
        "\n",
        "def L1(yhat, y):\n",
        "    \"\"\"\n",
        "    Arguments:\n",
        "    yhat -- vector of size m (predicted labels)\n",
        "    y -- vector of size m (true labels)\n",
        "    \n",
        "    Returns:\n",
        "    loss -- the value of the L1 loss function defined above\n",
        "    \"\"\"\n",
        "    \n",
        "    ### START CODE HERE ### (≈ 1 line of code)\n",
        "    loss = np.sum(np.abs(yhat-y),axis=0)\n",
        "    ### END CODE HERE ###\n",
        "    \n",
        "    return loss"
      ],
      "execution_count": 0,
      "outputs": []
    },
    {
      "cell_type": "code",
      "metadata": {
        "id": "G-SceZe0JEQy",
        "colab_type": "code",
        "outputId": "6eb772e2-e3b2-4aa5-bbcd-45f753ca06eb",
        "colab": {
          "base_uri": "https://localhost:8080/",
          "height": 35
        }
      },
      "source": [
        "yhat = np.array([.9, 0.2, 0.1, .4, .9])\n",
        "y = np.array([1, 0, 0, 1, 1])\n",
        "print(\"L1 = \" + str(L1(yhat,y)))"
      ],
      "execution_count": 0,
      "outputs": [
        {
          "output_type": "stream",
          "text": [
            "L1 = 1.1\n"
          ],
          "name": "stdout"
        }
      ]
    },
    {
      "cell_type": "markdown",
      "metadata": {
        "id": "akVbGcetJEQ3",
        "colab_type": "text"
      },
      "source": [
        "**Expected Output**:\n",
        "\n",
        "<table style=\"width:20%\">\n",
        "\n",
        "     <tr> \n",
        "       <td> **L1** </td> \n",
        "       <td> 1.1 </td> \n",
        "     </tr>\n",
        "</table>\n"
      ]
    },
    {
      "cell_type": "markdown",
      "metadata": {
        "id": "oFzSMyRYJEQ4",
        "colab_type": "text"
      },
      "source": [
        "#### <font color=blue> **Exercise 8**: </font> Implement the numpy vectorized version of the L2 loss. There are several way of implementing the L2 loss but you may find the function np.dot() useful. As a reminder, if $x = [x_1, x_2, ..., x_n]$, then `np.dot(x,x)` = $\\sum_{j=0}^n x_j^{2}$. \n",
        "\n",
        "- L2 loss is defined as $$\\begin{align*} & L_2(\\hat{y},y) = \\sum_{i=0}^m(y^{(i)} - \\hat{y}^{(i)})^2 \\end{align*}\\tag{7}$$"
      ]
    },
    {
      "cell_type": "code",
      "metadata": {
        "id": "GPFIvWDmJEQ6",
        "colab_type": "code",
        "colab": {}
      },
      "source": [
        "# GRADED FUNCTION: L2\n",
        "\n",
        "def L2(yhat, y):\n",
        "    \"\"\"\n",
        "    Arguments:\n",
        "    yhat -- vector of size m (predicted labels)\n",
        "    y -- vector of size m (true labels)\n",
        "    \n",
        "    Returns:\n",
        "    loss -- the value of the L2 loss function defined above\n",
        "    \"\"\"\n",
        "    \n",
        "    ### START CODE HERE ### (≈ 1 line of code)\n",
        "    loss = np.dot(np.abs(yhat-y), np.abs(yhat-y))\n",
        "    ### END CODE HERE ###\n",
        "    \n",
        "    return loss"
      ],
      "execution_count": 0,
      "outputs": []
    },
    {
      "cell_type": "code",
      "metadata": {
        "id": "7fRMTNTyJEQ_",
        "colab_type": "code",
        "outputId": "9093c938-08f1-4b30-88d5-61e02ac49845",
        "colab": {
          "base_uri": "https://localhost:8080/",
          "height": 35
        }
      },
      "source": [
        "yhat = np.array([.9, 0.2, 0.1, .4, .9])\n",
        "y = np.array([1, 0, 0, 1, 1])\n",
        "print(\"L2 = \" + str(L2(yhat,y)))"
      ],
      "execution_count": 0,
      "outputs": [
        {
          "output_type": "stream",
          "text": [
            "L2 = 0.43\n"
          ],
          "name": "stdout"
        }
      ]
    },
    {
      "cell_type": "markdown",
      "metadata": {
        "id": "EoYU_7BDJERD",
        "colab_type": "text"
      },
      "source": [
        "**Expected Output**: \n",
        "<table style=\"width:20%\">\n",
        "     <tr> \n",
        "       <td> **L2** </td> \n",
        "       <td> 0.43 </td> \n",
        "     </tr>\n",
        "</table>"
      ]
    },
    {
      "cell_type": "markdown",
      "metadata": {
        "id": "R6H4JnKKJERE",
        "colab_type": "text"
      },
      "source": [
        "Congratulations on completing this assignment. We hope that this little warm-up exercise helps you in the future assignments, which will be more exciting and interesting!"
      ]
    },
    {
      "cell_type": "markdown",
      "metadata": {
        "id": "J6RLT26kJERG",
        "colab_type": "text"
      },
      "source": [
        "<font color='green'>\n",
        "**What to remember:**\n",
        "- Vectorization is very important in deep learning. It provides computational efficiency and clarity.\n",
        "- You have reviewed the L1 and L2 loss.\n",
        "- You are familiar with many numpy functions such as np.sum, np.dot, np.multiply, np.maximum, etc..."
      ]
    },
    {
      "cell_type": "markdown",
      "metadata": {
        "id": "Neb5b_BnJERH",
        "colab_type": "text"
      },
      "source": [
        "#### <font color=blue> **Exercise 9**: </font>   $$f(x,y) = x^3 - 6x^2 + 12x + y^3 + 9y^2 + 27y +19$$  \n",
        "\n",
        "- Generate a graph of the using ipywidgets, so we can explore the surface\n"
      ]
    },
    {
      "cell_type": "code",
      "metadata": {
        "id": "-7SJrZPlJ8NZ",
        "colab_type": "code",
        "colab": {}
      },
      "source": [
        "from mpl_toolkits import mplot3d\n",
        "import numpy as np\n",
        "import matplotlib.pyplot as plt"
      ],
      "execution_count": 0,
      "outputs": []
    },
    {
      "cell_type": "code",
      "metadata": {
        "id": "CQNoqArWJ9ta",
        "colab_type": "code",
        "colab": {}
      },
      "source": [
        "x = np.outer(np.linspace(-10, 10, 1000), np.ones(1000))\n",
        "y = np.outer(np.ones(1000), np.linspace(-5, 15, 1000))\n",
        "#y = x.copy().T # transpose\n",
        "z = x ** 3 + y ** 3 - 6*x**2 + 12*x + 9*y**2+ 27*y+19"
      ],
      "execution_count": 0,
      "outputs": []
    },
    {
      "cell_type": "code",
      "metadata": {
        "id": "jSAVx4dXJ_Gp",
        "colab_type": "code",
        "colab": {}
      },
      "source": [
        "def rot_plot(a,b):\n",
        "    # Now let us take a look how the model is doing:\n",
        "    fig = plt.figure(figsize=plt.figaspect(.5))\n",
        "    fig = plt.figure(figsize=(12,12))\n",
        "    ax = plt.axes(projection='3d')\n",
        "    ax.view_init(10, 50)\n",
        "\n",
        "    sc = ax.plot_surface(x, y, z,cmap='viridis', edgecolor='none')\n",
        "    ax.set_title('$f(x,y)=x^3+y^3-6x^2+12x+9y^2+27y+19$')\n",
        "    ax.set_xlabel(\"X\")\n",
        "    ax.set_ylabel(\"Y\")\n",
        "    ax.set_zlabel(\"Z\")\n",
        "    #ax.set_zlim([-2000,2000])\n",
        "    ax.view_init(a, b)\n",
        "    plt.colorbar(sc, aspect = 3)\n",
        "\n",
        "    plt.show()"
      ],
      "execution_count": 0,
      "outputs": []
    },
    {
      "cell_type": "code",
      "metadata": {
        "id": "tz5xQMs4KBXf",
        "colab_type": "code",
        "outputId": "5c638d92-c1a6-4794-b6df-28a7fa23a789",
        "colab": {
          "base_uri": "https://localhost:8080/",
          "height": 855,
          "referenced_widgets": [
            "d00b2383067047cbbc4ff69ca1bfdf4b",
            "986358ca4d0940d6a70cb90dd1f50baa",
            "c2071240a69a46378f15ab52b27f80ff",
            "7f62229380934bf9b9067033e08a1f3b",
            "327a282c0ee242e49092e640ea61ca8b",
            "7b6a34959d134c2896e2a1676bd2ec8f",
            "1f04a6a66134403b8e894abbd2821152",
            "6a08d79ac7dc402eaf04b24f47406442",
            "9121f75732f14626a852edf17ce52ca3"
          ]
        }
      },
      "source": [
        "%pylab inline\n",
        "import ipywidgets\n",
        "\n",
        "widget = ipywidgets\n",
        "widget.interact(rot_plot,\n",
        "                 a=widget.IntSlider(min=-180, max=180,description='angle1', step=10, value = 20),\n",
        "                 b=widget.IntSlider(min=-180, max=180,description='angle2', step=10, value = 50))"
      ],
      "execution_count": 0,
      "outputs": [
        {
          "output_type": "stream",
          "text": [
            "Populating the interactive namespace from numpy and matplotlib\n"
          ],
          "name": "stdout"
        },
        {
          "output_type": "stream",
          "text": [
            "/usr/local/lib/python3.6/dist-packages/IPython/core/magics/pylab.py:161: UserWarning: pylab import has clobbered these variables: ['test', 'outer', 'dot']\n",
            "`%matplotlib` prevents importing * from pylab and numpy\n",
            "  \"\\n`%matplotlib` prevents importing * from pylab and numpy\"\n"
          ],
          "name": "stderr"
        },
        {
          "output_type": "display_data",
          "data": {
            "application/vnd.jupyter.widget-view+json": {
              "model_id": "d00b2383067047cbbc4ff69ca1bfdf4b",
              "version_minor": 0,
              "version_major": 2
            },
            "text/plain": [
              "interactive(children=(IntSlider(value=20, description='angle1', max=180, min=-180, step=10), IntSlider(value=5…"
            ]
          },
          "metadata": {
            "tags": []
          }
        },
        {
          "output_type": "execute_result",
          "data": {
            "text/plain": [
              "<function __main__.rot_plot>"
            ]
          },
          "metadata": {
            "tags": []
          },
          "execution_count": 33
        }
      ]
    },
    {
      "cell_type": "markdown",
      "metadata": {
        "id": "1AoEMN8OJERJ",
        "colab_type": "text"
      },
      "source": [
        "#### <font color=blue> **Exercise 10**: </font>  $$f(x,y) = x^3 - 6x^2 + 12x + y^3 + 9y^2 + 27y +19$$  \n",
        "\n",
        "- Write the gradient of the funxtion\n",
        "- Implement gradient descent algorithm to find at least one minimum value of this fucntion"
      ]
    },
    {
      "cell_type": "code",
      "metadata": {
        "id": "05FEF-cBJERK",
        "colab_type": "code",
        "outputId": "92bac516-151b-4c72-fcfc-f25207965919",
        "colab": {
          "base_uri": "https://localhost:8080/",
          "height": 144
        }
      },
      "source": [
        "## initial value vector. Here x = X[0], y = X[1]\n",
        "X = np.zeros(2)\n",
        "#learning rate alpha\n",
        "alpha = 0.01\n",
        "#The grad vector of partial derivatives: initialized\n",
        "grad = np.array([3*X[0]*X[0]-12*X[0]+12, 3*X[1]*X[1] + 18*X[1]+27])\n",
        "\n",
        "#Now the gradient descent algorithm\n",
        "for i in range(400):\n",
        "    grad = np.array([3*X[0]*X[0]-12*X[0]+12, 3*X[1]*X[1] + 18*X[1]+27])\n",
        "    #the x and y revised\n",
        "    X = X - alpha*grad\n",
        "    #print statement to keep an eye\n",
        "    if (i%100 == 0):\n",
        "        print(\"Aproximate Solution at iteration {} is {}\".format(i, X))\n",
        "print(\"after {} iteratios the approxiamte solution is {}\".format(i,X))"
      ],
      "execution_count": 0,
      "outputs": [
        {
          "output_type": "stream",
          "text": [
            "Aproximate Solution at iteration 0 is [-0.12 -0.27]\n",
            "Aproximate Solution at iteration 100 is [       -inf -2.70884672]\n",
            "Aproximate Solution at iteration 200 is [       -inf -2.84504775]\n",
            "Aproximate Solution at iteration 300 is [       -inf -2.89434885]\n",
            "after 399 iteratios the approxiamte solution is [       -inf -2.91963567]\n"
          ],
          "name": "stdout"
        },
        {
          "output_type": "stream",
          "text": [
            "/usr/local/lib/python3.6/dist-packages/ipykernel_launcher.py:9: RuntimeWarning: overflow encountered in double_scalars\n",
            "  if __name__ == '__main__':\n"
          ],
          "name": "stderr"
        }
      ]
    }
  ]
}